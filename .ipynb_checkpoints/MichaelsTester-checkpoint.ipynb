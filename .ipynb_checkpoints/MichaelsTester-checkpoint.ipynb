{
 "cells": [
  {
   "cell_type": "code",
   "execution_count": null,
   "id": "ea65eb4a-446b-43d4-bfc8-b6beb67cac26",
   "metadata": {},
   "outputs": [],
   "source": [
    "import tester as test"
   ]
  },
  {
   "cell_type": "code",
   "execution_count": null,
   "id": "e56eeb76-981b-4f81-b042-7eee05855e8d",
   "metadata": {},
   "outputs": [],
   "source": [
    "test.main()"
   ]
  }
 ],
 "metadata": {
  "kernelspec": {
   "display_name": "Python 3 (ipykernel)",
   "language": "python",
   "name": "python3"
  },
  "language_info": {
   "codemirror_mode": {
    "name": "ipython",
    "version": 3
   },
   "file_extension": ".py",
   "mimetype": "text/x-python",
   "name": "python",
   "nbconvert_exporter": "python",
   "pygments_lexer": "ipython3",
   "version": "3.9.7"
  }
 },
 "nbformat": 4,
 "nbformat_minor": 5
}
